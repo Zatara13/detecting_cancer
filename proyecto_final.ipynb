{
 "cells": [
  {
   "cell_type": "markdown",
   "id": "01186dab-0700-4a28-8151-07fd642bd316",
   "metadata": {},
   "source": [
    "# Proyecto final Machine learning con Python\n",
    "Jorge Ruizvisfocri\n",
    "Emilio Martinez"
   ]
  },
  {
   "cell_type": "markdown",
   "id": "d5c1830f-2528-4481-abfb-1d4ec8754c33",
   "metadata": {},
   "source": [
    "## Paqueterías de trabajo"
   ]
  },
  {
   "cell_type": "code",
   "execution_count": null,
   "id": "3eec8081-3ac2-455f-8131-f961d517a1e8",
   "metadata": {},
   "outputs": [],
   "source": []
  },
  {
   "cell_type": "markdown",
   "id": "24cc830b-31b9-492d-ac3a-b38c9a74aa89",
   "metadata": {},
   "source": [
    "## Cargamos datos de trabajo"
   ]
  },
  {
   "cell_type": "code",
   "execution_count": null,
   "id": "3634110e-8337-499d-9409-24a4baab406d",
   "metadata": {},
   "outputs": [],
   "source": []
  }
 ],
 "metadata": {
  "kernelspec": {
   "display_name": "Python 3 (ipykernel)",
   "language": "python",
   "name": "python3"
  },
  "language_info": {
   "codemirror_mode": {
    "name": "ipython",
    "version": 3
   },
   "file_extension": ".py",
   "mimetype": "text/x-python",
   "name": "python",
   "nbconvert_exporter": "python",
   "pygments_lexer": "ipython3",
   "version": "3.8.5"
  }
 },
 "nbformat": 4,
 "nbformat_minor": 5
}
